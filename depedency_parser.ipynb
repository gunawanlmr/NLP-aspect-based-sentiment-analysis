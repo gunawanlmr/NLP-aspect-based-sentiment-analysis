{
 "cells": [
  {
   "cell_type": "code",
   "execution_count": 1,
   "metadata": {},
   "outputs": [],
   "source": [
    "import pandas as pd\n",
    "import numpy as np"
   ]
  },
  {
   "cell_type": "code",
   "execution_count": 2,
   "metadata": {},
   "outputs": [],
   "source": [
    "import sys\n",
    "sys.path.append(\"lib/uuparser/barchybrid/src/\")"
   ]
  },
  {
   "cell_type": "code",
   "execution_count": 47,
   "metadata": {},
   "outputs": [
    {
     "name": "stdout",
     "output_type": "stream",
     "text": [
      "Loading model from models/id_gsd/barchybrid.model\n"
     ]
    },
    {
     "ename": "AttributeError",
     "evalue": "ArcHybridLSTM instance has no attribute 'Predictuu'",
     "output_type": "error",
     "traceback": [
      "\u001b[0;31m---------------------------------------------------------------------------\u001b[0m",
      "\u001b[0;31mAttributeError\u001b[0m                            Traceback (most recent call last)",
      "\u001b[0;32m<ipython-input-47-ea86f4804f9f>\u001b[0m in \u001b[0;36m<module>\u001b[0;34m()\u001b[0m\n\u001b[1;32m     16\u001b[0m     \u001b[0mkalimatStr\u001b[0m \u001b[0;34m=\u001b[0m \u001b[0;34m\"Sengaja macet2an kesini cuman buat nyobain nasi goreng cakalang yang orang2 bilang enak. Dan emang beneran enak sih nasi gorengnya wkkw suasana nya juga enak buat makan ramai2 gitu.\"\u001b[0m\u001b[0;34m\u001b[0m\u001b[0m\n\u001b[1;32m     17\u001b[0m     \u001b[0mdata\u001b[0m \u001b[0;34m=\u001b[0m \u001b[0mutils\u001b[0m\u001b[0;34m.\u001b[0m\u001b[0mread_conll_text\u001b[0m\u001b[0;34m(\u001b[0m\u001b[0mkalimatStr\u001b[0m\u001b[0;34m)\u001b[0m\u001b[0;34m\u001b[0m\u001b[0m\n\u001b[0;32m---> 18\u001b[0;31m     \u001b[0mpred\u001b[0m \u001b[0;34m=\u001b[0m \u001b[0mparser\u001b[0m\u001b[0;34m.\u001b[0m\u001b[0mPredictuu\u001b[0m\u001b[0;34m(\u001b[0m\u001b[0mdata\u001b[0m\u001b[0;34m)\u001b[0m\u001b[0;34m\u001b[0m\u001b[0m\n\u001b[0m",
      "\u001b[0;31mAttributeError\u001b[0m: ArcHybridLSTM instance has no attribute 'Predictuu'"
     ]
    }
   ],
   "source": [
    "from arc_hybrid import ArcHybridLSTM\n",
    "import pickle, utils, os\n",
    "# sesuaikan\n",
    "MODEL_DIR =\"models/id_gsd/\"\n",
    "params = MODEL_DIR + \"params.pickle\"\n",
    "modelFile=\"barchybrid.model\"\n",
    "testFile=\"test.txt\"\n",
    "\n",
    "with open(params, 'r') as paramsfp:\n",
    "    words, w2i, pos, rels, cpos, langs, stored_opt, ch = pickle.load(paramsfp)\n",
    "    parser = ArcHybridLSTM(words, pos, rels, cpos, langs, w2i,\n",
    "                           ch, stored_opt)\n",
    "    model = os.path.join(MODEL_DIR, modelFile)\n",
    "    parser.Load(model)\n",
    " \n",
    "    kalimatStr = \"Sengaja macet2an kesini cuman buat nyobain nasi goreng cakalang yang orang2 bilang enak. Dan emang beneran enak sih nasi gorengnya wkkw suasana nya juga enak buat makan ramai2 gitu.\"\n",
    "    data = utils.read_conll_text(kalimatStr)\n",
    "    pred = parser.Predictuu(data)"
   ]
  },
  {
   "cell_type": "code",
   "execution_count": 44,
   "metadata": {},
   "outputs": [
    {
     "name": "stdout",
     "output_type": "stream",
     "text": [
      "Reading Sengaja macet2an kesini cuman buat nyobain nasi goreng cakalang yang orang2 bilang enak. Dan emang beneran enak sih nasi gorengnya wkkw suasana nya juga enak buat makan ramai2 gitu.\n",
      "Time: 0.065s\n"
     ]
    }
   ],
   "source": [
    "res = list(pred)"
   ]
  },
  {
   "cell_type": "code",
   "execution_count": 45,
   "metadata": {},
   "outputs": [
    {
     "data": {
      "text/plain": [
       "1"
      ]
     },
     "execution_count": 45,
     "metadata": {},
     "output_type": "execute_result"
    }
   ],
   "source": [
    "len(res)"
   ]
  },
  {
   "cell_type": "code",
   "execution_count": 46,
   "metadata": {},
   "outputs": [
    {
     "name": "stdout",
     "output_type": "stream",
     "text": [
      "0\t*root*\t*root*\tROOT-CPOS\tROOT-POS\t_\t-1\trroot\t_\t_\n",
      "1\tSengaja\t_\t_\t_\t_\t0\tnsubj\t_\t_\n",
      "2\tmacet2an\t_\t_\t_\t_\t1\tcompound\t_\t_\n",
      "3\tkesini\t_\t_\t_\t_\t2\tobj\t_\t_\n",
      "4\tcuman\t_\t_\t_\t_\t3\tcompound\t_\t_\n",
      "5\tbuat\t_\t_\t_\t_\t4\tcompound\t_\t_\n",
      "6\tnyobain\t_\t_\t_\t_\t5\tcompound\t_\t_\n",
      "7\tnasi\t_\t_\t_\t_\t6\tcompound\t_\t_\n",
      "8\tgoreng\t_\t_\t_\t_\t7\tcompound\t_\t_\n",
      "9\tcakalang\t_\t_\t_\t_\t8\tcompound\t_\t_\n",
      "10\tyang\t_\t_\t_\t_\t11\tnsubj\t_\t_\n",
      "11\torang2\t_\t_\t_\t_\t9\tacl\t_\t_\n",
      "12\tbilang\t_\t_\t_\t_\t11\tadvmod\t_\t_\n",
      "13\tenak.\t_\t_\t_\t_\t12\tcompound\t_\t_\n",
      "14\tDan\t_\t_\t_\t_\t15\tcc\t_\t_\n",
      "15\temang\t_\t_\t_\t_\t13\tconj\t_\t_\n",
      "16\tbeneran\t_\t_\t_\t_\t15\tcompound\t_\t_\n",
      "17\tenak\t_\t_\t_\t_\t16\tcompound\t_\t_\n",
      "18\tsih\t_\t_\t_\t_\t17\tcompound\t_\t_\n",
      "19\tnasi\t_\t_\t_\t_\t18\tcompound\t_\t_\n",
      "20\tgorengnya\t_\t_\t_\t_\t19\tcompound\t_\t_\n",
      "21\twkkw\t_\t_\t_\t_\t20\tcompound\t_\t_\n",
      "22\tsuasana\t_\t_\t_\t_\t21\tcompound\t_\t_\n",
      "23\tnya\t_\t_\t_\t_\t22\tcompound\t_\t_\n",
      "24\tjuga\t_\t_\t_\t_\t25\tadvmod\t_\t_\n",
      "25\tenak\t_\t_\t_\t_\t23\tnsubj\t_\t_\n",
      "26\tbuat\t_\t_\t_\t_\t25\tamod\t_\t_\n",
      "27\tmakan\t_\t_\t_\t_\t26\tcompound\t_\t_\n",
      "28\tramai2\t_\t_\t_\t_\t27\tcompound\t_\t_\n",
      "29\tgitu.\t_\t_\t_\t_\t28\tcompound\t_\t_\n"
     ]
    }
   ],
   "source": [
    "for p in res[0]:\n",
    "    print p"
   ]
  },
  {
   "cell_type": "code",
   "execution_count": null,
   "metadata": {},
   "outputs": [],
   "source": []
  }
 ],
 "metadata": {
  "kernelspec": {
   "display_name": "Python 2",
   "language": "python",
   "name": "python2"
  },
  "language_info": {
   "codemirror_mode": {
    "name": "ipython",
    "version": 2
   },
   "file_extension": ".py",
   "mimetype": "text/x-python",
   "name": "python",
   "nbconvert_exporter": "python",
   "pygments_lexer": "ipython2",
   "version": "2.7.12"
  }
 },
 "nbformat": 4,
 "nbformat_minor": 2
}
