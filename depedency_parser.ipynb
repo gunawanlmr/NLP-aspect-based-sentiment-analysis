{
 "cells": [
  {
   "cell_type": "code",
   "execution_count": 1,
   "metadata": {},
   "outputs": [],
   "source": [
    "import pandas as pd\n",
    "import numpy as np"
   ]
  },
  {
   "cell_type": "code",
   "execution_count": 2,
   "metadata": {},
   "outputs": [],
   "source": [
    "import sys\n",
    "sys.path.append(\"lib/uuparser/barchybrid/src/\")"
   ]
  },
  {
   "cell_type": "code",
   "execution_count": 35,
   "metadata": {},
   "outputs": [
    {
     "name": "stdout",
     "output_type": "stream",
     "text": [
      "Loading model from models/id_gsd/barchybrid.model\n"
     ]
    }
   ],
   "source": [
    "from arc_hybrid import ArcHybridLSTM\n",
    "import pickle, utils, os\n",
    "# sesuaikan\n",
    "MODEL_DIR =\"models/id_gsd/\"\n",
    "params = MODEL_DIR + \"params.pickle\"\n",
    "modelFile=\"barchybrid.model\"\n",
    "testFile=\"test.txt\"\n",
    "\n",
    "with open(params, 'r') as paramsfp:\n",
    "    words, w2i, pos, rels, cpos, langs, stored_opt, ch = pickle.load(paramsfp)\n",
    "    parser = ArcHybridLSTM(words, pos, rels, cpos, langs, w2i,\n",
    "                           ch, stored_opt)\n",
    "    model = os.path.join(MODEL_DIR, modelFile)\n",
    "    parser.Load(model)\n",
    " \n",
    "    kalimatStr = \"Saya sedang makan nasi yang sangat enak\"\n",
    "    data = utils.read_conll(testFile)\n",
    "    pred = parser.Predict(data)"
   ]
  },
  {
   "cell_type": "code",
   "execution_count": 36,
   "metadata": {},
   "outputs": [
    {
     "name": "stdout",
     "output_type": "stream",
     "text": [
      "Reading test.txt\n",
      "1 sentences read\n",
      "Time: 0.017s\n"
     ]
    }
   ],
   "source": [
    "res = list(pred)"
   ]
  },
  {
   "cell_type": "code",
   "execution_count": 37,
   "metadata": {},
   "outputs": [
    {
     "data": {
      "text/plain": [
       "1"
      ]
     },
     "execution_count": 37,
     "metadata": {},
     "output_type": "execute_result"
    }
   ],
   "source": [
    "len(res)"
   ]
  },
  {
   "cell_type": "code",
   "execution_count": 38,
   "metadata": {},
   "outputs": [
    {
     "name": "stdout",
     "output_type": "stream",
     "text": [
      "0\t*root*\t*root*\tROOT-CPOS\tROOT-POS\t_\t-1\trroot\t_\t_\n",
      "1\tIbu\t_\t_\t_\t_\t0\troot\t_\t_\n",
      "2\tpergi\t_\t_\t_\t_\t1\troot\t_\t_\n",
      "3\tke\t_\t_\t_\t_\t4\tcase\t_\t_\n",
      "4\tpasar\t_\t_\t_\t_\t2\tobl\t_\t_\n"
     ]
    }
   ],
   "source": [
    "for p in res[0]:\n",
    "    print p"
   ]
  },
  {
   "cell_type": "code",
   "execution_count": null,
   "metadata": {},
   "outputs": [],
   "source": []
  }
 ],
 "metadata": {
  "kernelspec": {
   "display_name": "Python 2",
   "language": "python",
   "name": "python2"
  },
  "language_info": {
   "codemirror_mode": {
    "name": "ipython",
    "version": 2
   },
   "file_extension": ".py",
   "mimetype": "text/x-python",
   "name": "python",
   "nbconvert_exporter": "python",
   "pygments_lexer": "ipython2",
   "version": "2.7.12"
  }
 },
 "nbformat": 4,
 "nbformat_minor": 2
}
