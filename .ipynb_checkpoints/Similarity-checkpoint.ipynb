{
 "cells": [
  {
   "cell_type": "code",
   "execution_count": 1,
   "metadata": {},
   "outputs": [],
   "source": [
    "import re\n",
    "import gensim\n",
    "import nltk\n",
    "import math\n",
    "from twitterData import getTweetData"
   ]
  },
  {
   "cell_type": "markdown",
   "metadata": {},
   "source": [
    "# Wrapper Class for Word2Vec model to search similarity"
   ]
  },
  {
   "cell_type": "code",
   "execution_count": 2,
   "metadata": {},
   "outputs": [],
   "source": [
    "class similarity:\n",
    "    def __init__(self):\n",
    "        corpus = getTweetData()\n",
    "        self.model = self.getWord2Vec(corpus)\n",
    "        self.aspects = ['makanan', 'pelayanan', 'harga', 'suasana']\n",
    "        self.polarities = ['positif', 'negatif']\n",
    "        \n",
    "    def getWord2Vec(self, toFeed, dim=50):\n",
    "        return gensim.models.Word2Vec(toFeed, min_count=1,  size=dim)\n",
    "    \n",
    "    def most_similar_aspect(self, word):\n",
    "        most_similar = (0, \"\")\n",
    "        for aspect in self.aspects:\n",
    "            score = self.model.wv.similarity(word, aspect)\n",
    "            if score > most_similar[0]:\n",
    "                most_similar = (score, aspect)\n",
    "        return most_similar\n",
    "    \n",
    "    def most_similar_polarities(self, word):\n",
    "        most_similar = (0, \"\")\n",
    "        for polarity in self.polarities:\n",
    "            score = self.model.wv.similarity(word, polarity)\n",
    "            if score > most_similar[0]:\n",
    "                most_similar = (score, polarity)\n",
    "        return most_similar\n",
    "    "
   ]
  },
  {
   "cell_type": "code",
   "execution_count": 3,
   "metadata": {},
   "outputs": [],
   "source": [
    "sim = similarity()"
   ]
  },
  {
   "cell_type": "code",
   "execution_count": 4,
   "metadata": {},
   "outputs": [
    {
     "data": {
      "text/plain": [
       "(1.0, 'pelayanan')"
      ]
     },
     "execution_count": 4,
     "metadata": {},
     "output_type": "execute_result"
    }
   ],
   "source": [
    "sim.most_similar_aspect('pelayanan')"
   ]
  },
  {
   "cell_type": "code",
   "execution_count": 6,
   "metadata": {},
   "outputs": [
    {
     "data": {
      "text/plain": [
       "0.5695539730008387"
      ]
     },
     "execution_count": 6,
     "metadata": {},
     "output_type": "execute_result"
    }
   ],
   "source": [
    "sim.model.wv.similarity('ramah', 'positif')"
   ]
  },
  {
   "cell_type": "code",
   "execution_count": 7,
   "metadata": {},
   "outputs": [],
   "source": [
    "term_example = [('bakso', 'enak'), ('tahu', 'enek'), ('harga', 'mahal'), ('bon', 'murah'), ('tempat', 'ujung'), ('pelayan', 'ramah')]"
   ]
  },
  {
   "cell_type": "markdown",
   "metadata": {},
   "source": [
    "# Choose the best Polarity in every aspects"
   ]
  },
  {
   "cell_type": "code",
   "execution_count": 8,
   "metadata": {},
   "outputs": [],
   "source": [
    "aspects_map = {'makanan':'FOOD', 'pelayanan':'SERVICE', 'harga':'PRICE', 'suasana':'AMBIANCE'}\n",
    "polarities_map = {'positif':'POSITIVE', 'negatif': 'NEGATIVE'}\n",
    "\n",
    "def most_polar(term_list):\n",
    "    res = {'FOOD':{'POSITIVE':(0, 0), 'NEGATIVE':(0, 0)}, 'SERVICE':{'POSITIVE':(0, 0), 'NEGATIVE':(0, 0)}, 'PRICE':{'POSITIVE':(0, 0), 'NEGATIVE':(0, 0)}, 'AMBIANCE':{'POSITIVE':(0, 0), 'NEGATIVE':(0, 0)}}\n",
    "    for term in term_list:\n",
    "        _, aspect = sim.most_similar_aspect(term[0])\n",
    "        score, polarity = sim.most_similar_polarities(term[1])\n",
    "        aspect = aspects_map[aspect]\n",
    "        polarity = polarities_map[polarity]\n",
    "        score = score + res[aspect][polarity][0]\n",
    "        count = res[aspect][polarity][1] + 1\n",
    "        res[aspect][polarity] = (score, count)\n",
    "    return res\n",
    "\n",
    "def determine_polarity(polar_list):\n",
    "    for aspect in polar_list:\n",
    "        for polarity in polar_list[aspect]:\n",
    "            if polar_list[aspect][polarity][0] != 0:\n",
    "                mean = polar_list[aspect][polarity][0] / polar_list[aspect][polarity][1]\n",
    "            else:\n",
    "                mean = 0\n",
    "            polar_list[aspect][polarity] = mean\n",
    "        if polar_list[aspect]['POSITIVE'] > polar_list[aspect]['NEGATIVE']:\n",
    "            polar_list[aspect] = 'POSITIVE'\n",
    "        elif polar_list[aspect]['POSITIVE'] < polar_list[aspect]['NEGATIVE']:\n",
    "            polar_list[aspect] = 'NEGATIVE'\n",
    "        else:\n",
    "            polar_list[aspect] = None\n",
    "    return polar_list"
   ]
  },
  {
   "cell_type": "code",
   "execution_count": 9,
   "metadata": {},
   "outputs": [
    {
     "data": {
      "text/plain": [
       "{'AMBIANCE': None,\n",
       " 'FOOD': 'POSITIVE',\n",
       " 'PRICE': 'NEGATIVE',\n",
       " 'SERVICE': 'POSITIVE'}"
      ]
     },
     "execution_count": 9,
     "metadata": {},
     "output_type": "execute_result"
    }
   ],
   "source": [
    "lists = most_polar(term_example)\n",
    "determine_polarity(lists)"
   ]
  },
  {
   "cell_type": "code",
   "execution_count": null,
   "metadata": {},
   "outputs": [],
   "source": []
  }
 ],
 "metadata": {
  "kernelspec": {
   "display_name": "Python 3",
   "language": "python",
   "name": "python3"
  },
  "language_info": {
   "codemirror_mode": {
    "name": "ipython",
    "version": 3
   },
   "file_extension": ".py",
   "mimetype": "text/x-python",
   "name": "python",
   "nbconvert_exporter": "python",
   "pygments_lexer": "ipython3",
   "version": "3.6.4"
  }
 },
 "nbformat": 4,
 "nbformat_minor": 2
}
